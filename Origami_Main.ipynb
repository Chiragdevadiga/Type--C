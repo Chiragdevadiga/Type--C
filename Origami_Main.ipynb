{
  "nbformat": 4,
  "nbformat_minor": 0,
  "metadata": {
    "colab": {
      "provenance": [],
      "gpuType": "T4",
      "authorship_tag": "ABX9TyMK97y8W/EA4nntXK0slxRX",
      "include_colab_link": true
    },
    "kernelspec": {
      "name": "python3",
      "display_name": "Python 3"
    },
    "language_info": {
      "name": "python"
    },
    "accelerator": "GPU"
  },
  "cells": [
    {
      "cell_type": "markdown",
      "metadata": {
        "id": "view-in-github",
        "colab_type": "text"
      },
      "source": [
        "<a href=\"https://colab.research.google.com/github/Chiragdevadiga/Type--C/blob/main/Origami_Main.ipynb\" target=\"_parent\"><img src=\"https://colab.research.google.com/assets/colab-badge.svg\" alt=\"Open In Colab\"/></a>"
      ]
    },
    {
      "cell_type": "code",
      "execution_count": 86,
      "metadata": {
        "colab": {
          "base_uri": "https://localhost:8080/"
        },
        "id": "HfjF_aIEVLyp",
        "outputId": "d3f8d410-a2ef-4ed1-a746-2bd5a04abf0a"
      },
      "outputs": [
        {
          "output_type": "stream",
          "name": "stdout",
          "text": [
            "Requirement already satisfied: roboflow in /usr/local/lib/python3.10/dist-packages (1.1.9)\n",
            "Requirement already satisfied: certifi==2023.7.22 in /usr/local/lib/python3.10/dist-packages (from roboflow) (2023.7.22)\n",
            "Requirement already satisfied: chardet==4.0.0 in /usr/local/lib/python3.10/dist-packages (from roboflow) (4.0.0)\n",
            "Requirement already satisfied: cycler==0.10.0 in /usr/local/lib/python3.10/dist-packages (from roboflow) (0.10.0)\n",
            "Requirement already satisfied: idna==2.10 in /usr/local/lib/python3.10/dist-packages (from roboflow) (2.10)\n",
            "Requirement already satisfied: kiwisolver>=1.3.1 in /usr/local/lib/python3.10/dist-packages (from roboflow) (1.4.5)\n",
            "Requirement already satisfied: matplotlib in /usr/local/lib/python3.10/dist-packages (from roboflow) (3.7.1)\n",
            "Requirement already satisfied: numpy>=1.18.5 in /usr/local/lib/python3.10/dist-packages (from roboflow) (1.23.5)\n",
            "Requirement already satisfied: opencv-python-headless==4.8.0.74 in /usr/local/lib/python3.10/dist-packages (from roboflow) (4.8.0.74)\n",
            "Requirement already satisfied: Pillow>=7.1.2 in /usr/local/lib/python3.10/dist-packages (from roboflow) (9.4.0)\n",
            "Requirement already satisfied: pyparsing==2.4.7 in /usr/local/lib/python3.10/dist-packages (from roboflow) (2.4.7)\n",
            "Requirement already satisfied: python-dateutil in /usr/local/lib/python3.10/dist-packages (from roboflow) (2.8.2)\n",
            "Requirement already satisfied: python-dotenv in /usr/local/lib/python3.10/dist-packages (from roboflow) (1.0.0)\n",
            "Requirement already satisfied: requests in /usr/local/lib/python3.10/dist-packages (from roboflow) (2.31.0)\n",
            "Requirement already satisfied: six in /usr/local/lib/python3.10/dist-packages (from roboflow) (1.16.0)\n",
            "Requirement already satisfied: supervision in /usr/local/lib/python3.10/dist-packages (from roboflow) (0.16.0)\n",
            "Requirement already satisfied: urllib3>=1.26.6 in /usr/local/lib/python3.10/dist-packages (from roboflow) (2.0.7)\n",
            "Requirement already satisfied: tqdm>=4.41.0 in /usr/local/lib/python3.10/dist-packages (from roboflow) (4.66.1)\n",
            "Requirement already satisfied: PyYAML>=5.3.1 in /usr/local/lib/python3.10/dist-packages (from roboflow) (6.0.1)\n",
            "Requirement already satisfied: requests-toolbelt in /usr/local/lib/python3.10/dist-packages (from roboflow) (1.0.0)\n",
            "Requirement already satisfied: python-magic in /usr/local/lib/python3.10/dist-packages (from roboflow) (0.4.27)\n",
            "Requirement already satisfied: contourpy>=1.0.1 in /usr/local/lib/python3.10/dist-packages (from matplotlib->roboflow) (1.2.0)\n",
            "Requirement already satisfied: fonttools>=4.22.0 in /usr/local/lib/python3.10/dist-packages (from matplotlib->roboflow) (4.44.3)\n",
            "Requirement already satisfied: packaging>=20.0 in /usr/local/lib/python3.10/dist-packages (from matplotlib->roboflow) (23.2)\n",
            "Requirement already satisfied: charset-normalizer<4,>=2 in /usr/local/lib/python3.10/dist-packages (from requests->roboflow) (3.3.2)\n",
            "Requirement already satisfied: scipy<2.0.0,>=1.9.0 in /usr/local/lib/python3.10/dist-packages (from supervision->roboflow) (1.11.3)\n",
            "loading Roboflow workspace...\n",
            "loading Roboflow project...\n",
            "[WARNING] we noticed you are downloading a `yolov8` datasets but you don't have `ultralytics` installed. Roboflow `.deploy` supports only models trained with `ultralytics==8.0.196`, to intall it `pip install ultralytics==8.0.196`.\n"
          ]
        },
        {
          "output_type": "stream",
          "name": "stderr",
          "text": [
            "Downloading Dataset Version Zip in fyp_20230907-1 to yolov8:: 100%|██████████| 3802/3802 [00:01<00:00, 3026.50it/s]"
          ]
        },
        {
          "output_type": "stream",
          "name": "stdout",
          "text": [
            "\n"
          ]
        },
        {
          "output_type": "stream",
          "name": "stderr",
          "text": [
            "\n",
            "Extracting Dataset Version Zip to fyp_20230907-1 in yolov8:: 100%|██████████| 289/289 [00:00<00:00, 4474.81it/s]\n"
          ]
        }
      ],
      "source": [
        "!pip install roboflow\n",
        "\n",
        "from roboflow import Roboflow\n",
        "rf = Roboflow(api_key=\"mk0KG60ShShIw9dOeJZW\")\n",
        "project = rf.workspace(\"kyushu-university-dwxf1\").project(\"fyp_20230907\")\n",
        "dataset = project.version(1).download(\"yolov8\")\n"
      ]
    },
    {
      "cell_type": "code",
      "source": [
        "import os\n",
        "import numpy as np\n",
        "import tensorflow as tf\n",
        "from tensorflow.keras import layers, models\n",
        "from tensorflow.keras.preprocessing.image import ImageDataGenerator"
      ],
      "metadata": {
        "id": "rgJLUsPEXA-7"
      },
      "execution_count": 87,
      "outputs": []
    },
    {
      "cell_type": "code",
      "source": [
        "\n",
        "# Define the dataset path\n",
        "train_data_dir = '/content/fyp_20230907-1/train/'\n",
        "valid_data_dir = '/content/fyp_20230907-1/valid/'"
      ],
      "metadata": {
        "id": "wwh2A4nwXDTd"
      },
      "execution_count": 88,
      "outputs": []
    },
    {
      "cell_type": "code",
      "source": [
        "# Create ImageDataGenerator for data augmentation and normalization\n",
        "train_datagen = ImageDataGenerator(\n",
        "    rescale=1./255,\n",
        "    shear_range=0.2,\n",
        "    zoom_range=0.2,\n",
        "    horizontal_flip=True\n",
        ")"
      ],
      "metadata": {
        "id": "FLBfvGekJGVp"
      },
      "execution_count": 89,
      "outputs": []
    },
    {
      "cell_type": "code",
      "source": [
        "valid_datagen = ImageDataGenerator(rescale=1./255)"
      ],
      "metadata": {
        "id": "zS8Zl31ZJGYV"
      },
      "execution_count": 90,
      "outputs": []
    },
    {
      "cell_type": "code",
      "source": [
        "# Create data generators\n",
        "train_generator = train_datagen.flow_from_directory(\n",
        "    train_data_dir,\n",
        "    target_size=image_size,\n",
        "    batch_size=batch_size,\n",
        "    class_mode='categorical'\n",
        ")\n",
        "\n"
      ],
      "metadata": {
        "id": "6hgvGCK2XFT8",
        "colab": {
          "base_uri": "https://localhost:8080/"
        },
        "outputId": "f2bbe465-537d-44d2-b530-5d4f6a6e0271"
      },
      "execution_count": 91,
      "outputs": [
        {
          "output_type": "stream",
          "name": "stdout",
          "text": [
            "Found 198 images belonging to 16 classes.\n"
          ]
        }
      ]
    },
    {
      "cell_type": "code",
      "source": [],
      "metadata": {
        "id": "0LyA4xvWJFt3"
      },
      "execution_count": 91,
      "outputs": []
    },
    {
      "cell_type": "code",
      "source": [],
      "metadata": {
        "id": "CSIgf3PsXHk1"
      },
      "execution_count": 91,
      "outputs": []
    },
    {
      "cell_type": "code",
      "source": [
        "valid_generator = valid_datagen.flow_from_directory(\n",
        "    valid_data_dir,\n",
        "    target_size=image_size,\n",
        "    batch_size=batch_size,\n",
        "    class_mode='categorical',\n",
        "\n",
        ")"
      ],
      "metadata": {
        "colab": {
          "base_uri": "https://localhost:8080/"
        },
        "id": "V8X0t5SaQrsO",
        "outputId": "f7350e90-bb4e-42d5-b4b7-962f18f0ad8d"
      },
      "execution_count": 92,
      "outputs": [
        {
          "output_type": "stream",
          "name": "stdout",
          "text": [
            "Found 84 images belonging to 16 classes.\n"
          ]
        }
      ]
    },
    {
      "cell_type": "code",
      "source": [
        "num_classes = len(train_generator.class_indices)\n",
        "print(f\"Number of classes: {num_classes}\")"
      ],
      "metadata": {
        "colab": {
          "base_uri": "https://localhost:8080/"
        },
        "id": "DLS24P3TVhVC",
        "outputId": "95a5e0dc-54df-41a8-e792-c83e17cb0253"
      },
      "execution_count": 93,
      "outputs": [
        {
          "output_type": "stream",
          "name": "stdout",
          "text": [
            "Number of classes: 16\n"
          ]
        }
      ]
    },
    {
      "cell_type": "code",
      "source": [
        "# Build a simple CNN model\n",
        "model = models.Sequential()\n",
        "model.add(layers.Conv2D(32, (3, 3), activation='relu', input_shape=(224, 224, 3)))\n",
        "model.add(layers.MaxPooling2D((2, 2)))\n",
        "model.add(layers.Conv2D(64, (3, 3), activation='relu'))\n",
        "model.add(layers.MaxPooling2D((2, 2)))\n",
        "model.add(layers.Conv2D(128, (3, 3), activation='relu'))\n",
        "model.add(layers.MaxPooling2D((2, 2)))\n",
        "model.add(layers.Flatten())\n",
        "model.add(layers.Dense(128, activation='relu'))\n",
        "model.add(layers.Dense(num_classes, activation='softmax'))"
      ],
      "metadata": {
        "id": "x-SHwU8hQru6"
      },
      "execution_count": 99,
      "outputs": []
    },
    {
      "cell_type": "code",
      "source": [
        "# Compile the model\n",
        "model.compile(optimizer='adam',\n",
        "              loss='categorical_crossentropy',\n",
        "              metrics=['accuracy'])"
      ],
      "metadata": {
        "id": "mb5m0mjhQrx9"
      },
      "execution_count": 100,
      "outputs": []
    },
    {
      "cell_type": "code",
      "source": [],
      "metadata": {
        "id": "M5IZhJnsVWeE"
      },
      "execution_count": 100,
      "outputs": []
    },
    {
      "cell_type": "code",
      "source": [
        "# Train the model\n",
        "model.fit(\n",
        "    train_generator,\n",
        "    steps_per_epoch=train_generator.samples // batch_size,\n",
        "    validation_data=valid_generator,\n",
        "    validation_steps=valid_generator.samples // batch_size,\n",
        "    epochs=100  # you can adjust the number of epochs\n",
        ")"
      ],
      "metadata": {
        "colab": {
          "base_uri": "https://localhost:8080/"
        },
        "id": "BgoHfAkJXJVB",
        "outputId": "ee837f3f-2ebb-406c-a089-be35bed26a22"
      },
      "execution_count": 101,
      "outputs": [
        {
          "output_type": "stream",
          "name": "stdout",
          "text": [
            "Epoch 1/100\n",
            "12/12 [==============================] - 4s 232ms/step - loss: 2.6241 - accuracy: 0.4615 - val_loss: 2.0163 - val_accuracy: 0.5000\n",
            "Epoch 2/100\n",
            "12/12 [==============================] - 3s 231ms/step - loss: 2.0952 - accuracy: 0.4945 - val_loss: 1.9021 - val_accuracy: 0.5250\n",
            "Epoch 3/100\n",
            "12/12 [==============================] - 3s 273ms/step - loss: 1.9844 - accuracy: 0.4945 - val_loss: 1.8671 - val_accuracy: 0.5000\n",
            "Epoch 4/100\n",
            "12/12 [==============================] - 5s 416ms/step - loss: 2.0008 - accuracy: 0.4890 - val_loss: 1.8605 - val_accuracy: 0.4750\n",
            "Epoch 5/100\n",
            "12/12 [==============================] - 4s 299ms/step - loss: 1.7861 - accuracy: 0.4948 - val_loss: 1.5558 - val_accuracy: 0.4750\n",
            "Epoch 6/100\n",
            "12/12 [==============================] - 3s 229ms/step - loss: 1.4805 - accuracy: 0.4835 - val_loss: 1.4693 - val_accuracy: 0.5000\n",
            "Epoch 7/100\n",
            "12/12 [==============================] - 4s 334ms/step - loss: 1.4562 - accuracy: 0.4890 - val_loss: 1.3090 - val_accuracy: 0.5250\n",
            "Epoch 8/100\n",
            "12/12 [==============================] - 3s 225ms/step - loss: 1.3767 - accuracy: 0.4451 - val_loss: 1.2733 - val_accuracy: 0.4875\n",
            "Epoch 9/100\n",
            "12/12 [==============================] - 3s 231ms/step - loss: 1.2729 - accuracy: 0.4688 - val_loss: 1.2022 - val_accuracy: 0.4875\n",
            "Epoch 10/100\n",
            "12/12 [==============================] - 3s 252ms/step - loss: 1.1106 - accuracy: 0.5000 - val_loss: 1.2584 - val_accuracy: 0.4500\n",
            "Epoch 11/100\n",
            "12/12 [==============================] - 4s 359ms/step - loss: 1.1488 - accuracy: 0.5220 - val_loss: 1.3042 - val_accuracy: 0.5125\n",
            "Epoch 12/100\n",
            "12/12 [==============================] - 3s 255ms/step - loss: 1.0965 - accuracy: 0.4890 - val_loss: 1.1480 - val_accuracy: 0.5250\n",
            "Epoch 13/100\n",
            "12/12 [==============================] - 3s 227ms/step - loss: 1.1915 - accuracy: 0.4176 - val_loss: 1.1725 - val_accuracy: 0.5000\n",
            "Epoch 14/100\n",
            "12/12 [==============================] - 3s 292ms/step - loss: 1.0441 - accuracy: 0.5220 - val_loss: 1.1398 - val_accuracy: 0.4750\n",
            "Epoch 15/100\n",
            "12/12 [==============================] - 3s 225ms/step - loss: 1.0997 - accuracy: 0.4286 - val_loss: 1.1097 - val_accuracy: 0.5125\n",
            "Epoch 16/100\n",
            "12/12 [==============================] - 3s 251ms/step - loss: 1.0071 - accuracy: 0.4780 - val_loss: 1.1301 - val_accuracy: 0.4875\n",
            "Epoch 17/100\n",
            "12/12 [==============================] - 3s 248ms/step - loss: 1.1075 - accuracy: 0.4890 - val_loss: 1.1975 - val_accuracy: 0.4500\n",
            "Epoch 18/100\n",
            "12/12 [==============================] - 4s 358ms/step - loss: 1.0533 - accuracy: 0.4890 - val_loss: 1.2854 - val_accuracy: 0.5000\n",
            "Epoch 19/100\n",
            "12/12 [==============================] - 3s 249ms/step - loss: 1.1721 - accuracy: 0.4505 - val_loss: 1.2142 - val_accuracy: 0.4875\n",
            "Epoch 20/100\n",
            "12/12 [==============================] - 3s 251ms/step - loss: 1.0458 - accuracy: 0.4780 - val_loss: 1.1235 - val_accuracy: 0.4750\n",
            "Epoch 21/100\n",
            "12/12 [==============================] - 3s 233ms/step - loss: 1.0636 - accuracy: 0.4396 - val_loss: 1.4844 - val_accuracy: 0.4875\n",
            "Epoch 22/100\n",
            "12/12 [==============================] - 3s 264ms/step - loss: 1.1540 - accuracy: 0.4615 - val_loss: 1.0668 - val_accuracy: 0.5125\n",
            "Epoch 23/100\n",
            "12/12 [==============================] - 3s 253ms/step - loss: 0.9640 - accuracy: 0.4725 - val_loss: 1.1892 - val_accuracy: 0.5125\n",
            "Epoch 24/100\n",
            "12/12 [==============================] - 3s 284ms/step - loss: 0.9438 - accuracy: 0.4890 - val_loss: 1.0553 - val_accuracy: 0.5125\n",
            "Epoch 25/100\n",
            "12/12 [==============================] - 3s 225ms/step - loss: 0.9320 - accuracy: 0.4780 - val_loss: 1.0889 - val_accuracy: 0.4625\n",
            "Epoch 26/100\n",
            "12/12 [==============================] - 3s 224ms/step - loss: 0.8722 - accuracy: 0.4945 - val_loss: 0.9728 - val_accuracy: 0.4875\n",
            "Epoch 27/100\n",
            "12/12 [==============================] - 5s 405ms/step - loss: 0.9350 - accuracy: 0.4231 - val_loss: 1.0082 - val_accuracy: 0.4875\n",
            "Epoch 28/100\n",
            "12/12 [==============================] - 3s 237ms/step - loss: 0.8678 - accuracy: 0.4890 - val_loss: 0.9148 - val_accuracy: 0.5125\n",
            "Epoch 29/100\n",
            "12/12 [==============================] - 3s 253ms/step - loss: 0.9098 - accuracy: 0.4725 - val_loss: 1.0064 - val_accuracy: 0.4875\n",
            "Epoch 30/100\n",
            "12/12 [==============================] - 3s 250ms/step - loss: 0.9074 - accuracy: 0.4560 - val_loss: 1.0316 - val_accuracy: 0.4875\n",
            "Epoch 31/100\n",
            "12/12 [==============================] - 5s 416ms/step - loss: 0.8876 - accuracy: 0.4835 - val_loss: 0.9216 - val_accuracy: 0.5125\n",
            "Epoch 32/100\n",
            "12/12 [==============================] - 3s 234ms/step - loss: 0.8273 - accuracy: 0.4844 - val_loss: 0.9250 - val_accuracy: 0.5250\n",
            "Epoch 33/100\n",
            "12/12 [==============================] - 3s 242ms/step - loss: 0.8743 - accuracy: 0.4688 - val_loss: 1.1346 - val_accuracy: 0.4875\n",
            "Epoch 34/100\n",
            "12/12 [==============================] - 4s 367ms/step - loss: 0.8779 - accuracy: 0.4670 - val_loss: 1.1246 - val_accuracy: 0.5125\n",
            "Epoch 35/100\n",
            "12/12 [==============================] - 3s 230ms/step - loss: 0.8908 - accuracy: 0.4505 - val_loss: 1.0437 - val_accuracy: 0.5000\n",
            "Epoch 36/100\n",
            "12/12 [==============================] - 3s 253ms/step - loss: 0.8583 - accuracy: 0.4615 - val_loss: 0.9486 - val_accuracy: 0.5000\n",
            "Epoch 37/100\n",
            "12/12 [==============================] - 3s 253ms/step - loss: 0.8581 - accuracy: 0.4725 - val_loss: 0.9402 - val_accuracy: 0.4875\n",
            "Epoch 38/100\n",
            "12/12 [==============================] - 5s 405ms/step - loss: 0.8477 - accuracy: 0.5220 - val_loss: 0.9978 - val_accuracy: 0.5000\n",
            "Epoch 39/100\n",
            "12/12 [==============================] - 3s 258ms/step - loss: 0.8542 - accuracy: 0.4835 - val_loss: 1.0966 - val_accuracy: 0.4875\n",
            "Epoch 40/100\n",
            "12/12 [==============================] - 3s 253ms/step - loss: 0.8852 - accuracy: 0.4780 - val_loss: 0.9876 - val_accuracy: 0.5125\n",
            "Epoch 41/100\n",
            "12/12 [==============================] - 3s 256ms/step - loss: 0.8513 - accuracy: 0.4451 - val_loss: 0.9288 - val_accuracy: 0.5000\n",
            "Epoch 42/100\n",
            "12/12 [==============================] - 5s 399ms/step - loss: 0.8317 - accuracy: 0.5000 - val_loss: 1.0442 - val_accuracy: 0.5125\n",
            "Epoch 43/100\n",
            "12/12 [==============================] - 3s 249ms/step - loss: 0.9211 - accuracy: 0.4670 - val_loss: 1.0713 - val_accuracy: 0.5000\n",
            "Epoch 44/100\n",
            "12/12 [==============================] - 3s 228ms/step - loss: 0.8681 - accuracy: 0.4505 - val_loss: 0.9985 - val_accuracy: 0.5250\n",
            "Epoch 45/100\n",
            "12/12 [==============================] - 4s 371ms/step - loss: 0.8443 - accuracy: 0.4835 - val_loss: 1.0105 - val_accuracy: 0.4875\n",
            "Epoch 46/100\n",
            "12/12 [==============================] - 3s 253ms/step - loss: 0.8889 - accuracy: 0.4890 - val_loss: 1.0543 - val_accuracy: 0.5125\n",
            "Epoch 47/100\n",
            "12/12 [==============================] - 3s 224ms/step - loss: 0.8478 - accuracy: 0.4945 - val_loss: 1.0026 - val_accuracy: 0.5250\n",
            "Epoch 48/100\n",
            "12/12 [==============================] - 3s 223ms/step - loss: 0.8283 - accuracy: 0.5000 - val_loss: 0.9453 - val_accuracy: 0.4875\n",
            "Epoch 49/100\n",
            "12/12 [==============================] - 3s 254ms/step - loss: 0.8971 - accuracy: 0.3901 - val_loss: 0.8919 - val_accuracy: 0.5000\n",
            "Epoch 50/100\n",
            "12/12 [==============================] - 3s 250ms/step - loss: 0.8556 - accuracy: 0.4725 - val_loss: 0.9881 - val_accuracy: 0.5000\n",
            "Epoch 51/100\n",
            "12/12 [==============================] - 5s 406ms/step - loss: 0.8834 - accuracy: 0.5275 - val_loss: 1.0944 - val_accuracy: 0.4875\n",
            "Epoch 52/100\n",
            "12/12 [==============================] - 3s 251ms/step - loss: 0.8333 - accuracy: 0.4890 - val_loss: 0.9834 - val_accuracy: 0.5000\n",
            "Epoch 53/100\n",
            "12/12 [==============================] - 3s 224ms/step - loss: 0.8851 - accuracy: 0.4505 - val_loss: 0.9443 - val_accuracy: 0.5125\n",
            "Epoch 54/100\n",
            "12/12 [==============================] - 3s 231ms/step - loss: 0.8372 - accuracy: 0.4615 - val_loss: 1.0204 - val_accuracy: 0.5000\n",
            "Epoch 55/100\n",
            "12/12 [==============================] - 4s 326ms/step - loss: 0.8333 - accuracy: 0.4780 - val_loss: 0.9105 - val_accuracy: 0.4875\n",
            "Epoch 56/100\n",
            "12/12 [==============================] - 3s 242ms/step - loss: 0.8136 - accuracy: 0.4780 - val_loss: 1.0205 - val_accuracy: 0.4875\n",
            "Epoch 57/100\n",
            "12/12 [==============================] - 3s 229ms/step - loss: 0.8078 - accuracy: 0.4615 - val_loss: 0.9563 - val_accuracy: 0.4750\n",
            "Epoch 58/100\n",
            "12/12 [==============================] - 3s 252ms/step - loss: 0.8429 - accuracy: 0.4615 - val_loss: 0.9407 - val_accuracy: 0.4875\n",
            "Epoch 59/100\n",
            "12/12 [==============================] - 5s 412ms/step - loss: 0.8418 - accuracy: 0.4505 - val_loss: 0.9441 - val_accuracy: 0.5000\n",
            "Epoch 60/100\n",
            "12/12 [==============================] - 3s 228ms/step - loss: 0.8012 - accuracy: 0.4835 - val_loss: 0.9074 - val_accuracy: 0.5125\n",
            "Epoch 61/100\n",
            "12/12 [==============================] - 3s 232ms/step - loss: 0.7729 - accuracy: 0.5000 - val_loss: 1.0566 - val_accuracy: 0.4750\n",
            "Epoch 62/100\n",
            "12/12 [==============================] - 4s 339ms/step - loss: 0.8280 - accuracy: 0.4505 - val_loss: 0.8942 - val_accuracy: 0.5125\n",
            "Epoch 63/100\n",
            "12/12 [==============================] - 3s 237ms/step - loss: 0.8572 - accuracy: 0.4560 - val_loss: 0.9331 - val_accuracy: 0.4875\n",
            "Epoch 64/100\n",
            "12/12 [==============================] - 3s 252ms/step - loss: 0.8018 - accuracy: 0.4560 - val_loss: 0.9386 - val_accuracy: 0.5000\n",
            "Epoch 65/100\n",
            "12/12 [==============================] - 3s 231ms/step - loss: 0.7991 - accuracy: 0.4375 - val_loss: 0.8942 - val_accuracy: 0.5000\n",
            "Epoch 66/100\n",
            "12/12 [==============================] - 4s 336ms/step - loss: 0.7632 - accuracy: 0.5469 - val_loss: 0.9121 - val_accuracy: 0.5000\n",
            "Epoch 67/100\n",
            "12/12 [==============================] - 4s 325ms/step - loss: 0.8377 - accuracy: 0.4615 - val_loss: 0.8823 - val_accuracy: 0.4875\n",
            "Epoch 68/100\n",
            "12/12 [==============================] - 3s 255ms/step - loss: 0.7698 - accuracy: 0.5000 - val_loss: 0.8940 - val_accuracy: 0.4875\n",
            "Epoch 69/100\n",
            "12/12 [==============================] - 3s 259ms/step - loss: 0.7609 - accuracy: 0.5220 - val_loss: 0.9786 - val_accuracy: 0.4875\n",
            "Epoch 70/100\n",
            "12/12 [==============================] - 3s 256ms/step - loss: 0.7886 - accuracy: 0.4780 - val_loss: 0.8746 - val_accuracy: 0.5125\n",
            "Epoch 71/100\n",
            "12/12 [==============================] - 3s 226ms/step - loss: 0.8324 - accuracy: 0.4231 - val_loss: 0.9372 - val_accuracy: 0.5125\n",
            "Epoch 72/100\n",
            "12/12 [==============================] - 3s 253ms/step - loss: 0.7997 - accuracy: 0.4066 - val_loss: 0.9412 - val_accuracy: 0.4875\n",
            "Epoch 73/100\n",
            "12/12 [==============================] - 3s 294ms/step - loss: 0.7714 - accuracy: 0.4505 - val_loss: 0.9577 - val_accuracy: 0.4750\n",
            "Epoch 74/100\n",
            "12/12 [==============================] - 4s 342ms/step - loss: 0.8186 - accuracy: 0.4396 - val_loss: 0.8748 - val_accuracy: 0.4875\n",
            "Epoch 75/100\n",
            "12/12 [==============================] - 3s 255ms/step - loss: 0.7777 - accuracy: 0.5330 - val_loss: 0.9094 - val_accuracy: 0.4750\n",
            "Epoch 76/100\n",
            "12/12 [==============================] - 3s 252ms/step - loss: 0.8194 - accuracy: 0.4451 - val_loss: 0.9101 - val_accuracy: 0.5000\n",
            "Epoch 77/100\n",
            "12/12 [==============================] - 3s 287ms/step - loss: 0.8074 - accuracy: 0.4670 - val_loss: 0.9520 - val_accuracy: 0.5250\n",
            "Epoch 78/100\n",
            "12/12 [==============================] - 3s 237ms/step - loss: 0.7887 - accuracy: 0.5052 - val_loss: 0.8841 - val_accuracy: 0.4875\n",
            "Epoch 79/100\n",
            "12/12 [==============================] - 3s 228ms/step - loss: 0.8054 - accuracy: 0.4670 - val_loss: 0.9251 - val_accuracy: 0.4875\n",
            "Epoch 80/100\n",
            "12/12 [==============================] - 4s 338ms/step - loss: 0.7863 - accuracy: 0.5275 - val_loss: 0.9630 - val_accuracy: 0.4875\n",
            "Epoch 81/100\n",
            "12/12 [==============================] - 3s 222ms/step - loss: 0.8162 - accuracy: 0.4560 - val_loss: 1.0238 - val_accuracy: 0.5125\n",
            "Epoch 82/100\n",
            "12/12 [==============================] - 3s 227ms/step - loss: 0.8023 - accuracy: 0.5055 - val_loss: 0.9101 - val_accuracy: 0.5125\n",
            "Epoch 83/100\n",
            "12/12 [==============================] - 5s 390ms/step - loss: 0.7768 - accuracy: 0.5110 - val_loss: 0.9505 - val_accuracy: 0.4875\n",
            "Epoch 84/100\n",
            "12/12 [==============================] - 3s 228ms/step - loss: 0.8225 - accuracy: 0.4231 - val_loss: 0.9285 - val_accuracy: 0.5000\n",
            "Epoch 85/100\n",
            "12/12 [==============================] - 3s 226ms/step - loss: 0.8176 - accuracy: 0.4725 - val_loss: 0.9238 - val_accuracy: 0.5000\n",
            "Epoch 86/100\n",
            "12/12 [==============================] - 4s 340ms/step - loss: 0.8308 - accuracy: 0.4396 - val_loss: 0.9354 - val_accuracy: 0.5125\n",
            "Epoch 87/100\n",
            "12/12 [==============================] - 4s 291ms/step - loss: 0.8328 - accuracy: 0.3791 - val_loss: 0.8630 - val_accuracy: 0.5000\n",
            "Epoch 88/100\n",
            "12/12 [==============================] - 3s 225ms/step - loss: 0.8077 - accuracy: 0.4560 - val_loss: 0.9783 - val_accuracy: 0.4875\n",
            "Epoch 89/100\n",
            "12/12 [==============================] - 3s 226ms/step - loss: 0.7851 - accuracy: 0.5000 - val_loss: 0.8714 - val_accuracy: 0.5000\n",
            "Epoch 90/100\n",
            "12/12 [==============================] - 5s 411ms/step - loss: 0.7998 - accuracy: 0.4451 - val_loss: 0.9291 - val_accuracy: 0.5000\n",
            "Epoch 91/100\n",
            "12/12 [==============================] - 3s 266ms/step - loss: 0.7849 - accuracy: 0.4890 - val_loss: 0.9006 - val_accuracy: 0.4875\n",
            "Epoch 92/100\n",
            "12/12 [==============================] - 3s 249ms/step - loss: 0.8026 - accuracy: 0.4560 - val_loss: 0.8813 - val_accuracy: 0.4875\n",
            "Epoch 93/100\n",
            "12/12 [==============================] - 3s 229ms/step - loss: 0.7696 - accuracy: 0.4948 - val_loss: 0.8919 - val_accuracy: 0.5125\n",
            "Epoch 94/100\n",
            "12/12 [==============================] - 4s 361ms/step - loss: 0.8054 - accuracy: 0.4780 - val_loss: 0.9785 - val_accuracy: 0.5000\n",
            "Epoch 95/100\n",
            "12/12 [==============================] - 3s 240ms/step - loss: 0.7731 - accuracy: 0.4286 - val_loss: 0.8795 - val_accuracy: 0.4875\n",
            "Epoch 96/100\n",
            "12/12 [==============================] - 3s 227ms/step - loss: 0.7455 - accuracy: 0.5330 - val_loss: 0.8502 - val_accuracy: 0.5000\n",
            "Epoch 97/100\n",
            "12/12 [==============================] - 3s 226ms/step - loss: 0.8670 - accuracy: 0.4121 - val_loss: 0.9885 - val_accuracy: 0.5000\n",
            "Epoch 98/100\n",
            "12/12 [==============================] - 4s 360ms/step - loss: 0.7817 - accuracy: 0.4341 - val_loss: 0.8443 - val_accuracy: 0.5000\n",
            "Epoch 99/100\n",
            "12/12 [==============================] - 3s 264ms/step - loss: 0.7639 - accuracy: 0.5110 - val_loss: 0.8870 - val_accuracy: 0.4875\n",
            "Epoch 100/100\n",
            "12/12 [==============================] - 3s 263ms/step - loss: 0.7703 - accuracy: 0.4505 - val_loss: 0.8846 - val_accuracy: 0.4875\n"
          ]
        },
        {
          "output_type": "execute_result",
          "data": {
            "text/plain": [
              "<keras.src.callbacks.History at 0x7987d81e78b0>"
            ]
          },
          "metadata": {},
          "execution_count": 101
        }
      ]
    },
    {
      "cell_type": "code",
      "source": [
        "# Save the model\n",
        "model.save('origami_shape_classifier.h5')"
      ],
      "metadata": {
        "id": "B_vytEYiXK67"
      },
      "execution_count": 103,
      "outputs": []
    },
    {
      "cell_type": "code",
      "source": [
        "import tensorflow as tf\n",
        "import numpy as np\n",
        "\n",
        "# Load the trained model\n",
        "model = tf.keras.models.load_model('origami_shape_classifier.h5')\n"
      ],
      "metadata": {
        "id": "-cOWD7GlRgVX"
      },
      "execution_count": 104,
      "outputs": []
    },
    {
      "cell_type": "code",
      "source": [
        "\n",
        "# Path to your test image\n",
        "test_image_path = '/content/hqdefault.jpg'\n"
      ],
      "metadata": {
        "id": "qE9vlqE7RgYk"
      },
      "execution_count": 105,
      "outputs": []
    },
    {
      "cell_type": "code",
      "source": [
        "\n",
        "# Load and preprocess the test image\n",
        "img = tf.keras.preprocessing.image.load_img(test_image_path, target_size=(224, 224))\n",
        "img_array = tf.keras.preprocessing.image.img_to_array(img)\n",
        "img_array = np.expand_dims(img_array, axis=0)\n",
        "img_array /= 255.0  # Normalize the image\n"
      ],
      "metadata": {
        "id": "wOhqrnHHRga_"
      },
      "execution_count": 108,
      "outputs": []
    },
    {
      "cell_type": "code",
      "source": [
        "\n",
        "# Make predictions\n",
        "predictions = model.predict(img_array)\n"
      ],
      "metadata": {
        "id": "8Ttttam2XMP7",
        "colab": {
          "base_uri": "https://localhost:8080/"
        },
        "outputId": "451973ec-7375-4306-99b7-39c14a1286c5"
      },
      "execution_count": 109,
      "outputs": [
        {
          "output_type": "stream",
          "name": "stdout",
          "text": [
            "1/1 [==============================] - 0s 20ms/step\n"
          ]
        }
      ]
    },
    {
      "cell_type": "code",
      "source": [
        "\n",
        "# Map predicted class index to the actual class name\n",
        "class_names = train_generator.class_indices\n",
        "predicted_class = np.argmax(predictions)\n",
        "predicted_class_name = [k for k, v in class_names.items() if v == predicted_class][0]\n"
      ],
      "metadata": {
        "id": "P5Sc-MGdXNe0"
      },
      "execution_count": 110,
      "outputs": []
    },
    {
      "cell_type": "code",
      "source": [
        "\n",
        "print(f\"Predicted class index: {predicted_class}\")\n",
        "print(f\"Predicted class name: {predicted_class_name}\")\n"
      ],
      "metadata": {
        "colab": {
          "base_uri": "https://localhost:8080/"
        },
        "id": "EJ0-kvp-YUIa",
        "outputId": "1bb89490-f3fe-45a6-cc66-520de2be7a1b"
      },
      "execution_count": 111,
      "outputs": [
        {
          "output_type": "stream",
          "name": "stdout",
          "text": [
            "Predicted class index: 9\n",
            "Predicted class name: rabbit\n"
          ]
        }
      ]
    },
    {
      "cell_type": "code",
      "source": [],
      "metadata": {
        "id": "fmLtwWIhXOmq"
      },
      "execution_count": 112,
      "outputs": []
    }
  ]
}